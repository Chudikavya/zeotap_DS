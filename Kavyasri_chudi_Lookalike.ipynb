{
 "cells": [
  {
   "cell_type": "code",
   "execution_count": 2,
   "id": "aaecc607",
   "metadata": {},
   "outputs": [],
   "source": [
    "import pandas as pd\n",
    "customers = pd.read_csv(\"Customers.csv\")\n",
    "products = pd.read_csv(\"Products.csv\")\n",
    "transactions = pd.read_csv(\"Transactions.csv\")"
   ]
  },
  {
   "cell_type": "code",
   "execution_count": 3,
   "id": "c0b6e476",
   "metadata": {},
   "outputs": [],
   "source": [
    "# TASK 2: LOOKALIKE MODEL\n",
    "# Merge customer transactions\n",
    "customer_data = transactions.groupby(\"CustomerID\")[\"TotalValue\"].sum().reset_index()\n",
    "customer_data = customer_data.merge(customers, on=\"CustomerID\")\n"
   ]
  },
  {
   "cell_type": "code",
   "execution_count": 4,
   "id": "fe84b47a",
   "metadata": {},
   "outputs": [],
   "source": [
    "from sklearn.preprocessing import StandardScaler\n",
    "from sklearn.metrics.pairwise import cosine_similarity"
   ]
  },
  {
   "cell_type": "code",
   "execution_count": 5,
   "id": "d75612bc",
   "metadata": {},
   "outputs": [],
   "source": [
    "# Compute similarity\n",
    "scaler = StandardScaler()\n",
    "customer_scaled = scaler.fit_transform(customer_data[['TotalValue']])\n",
    "similarity_matrix = cosine_similarity(customer_scaled)"
   ]
  },
  {
   "cell_type": "code",
   "execution_count": 6,
   "id": "5a344a5a",
   "metadata": {},
   "outputs": [],
   "source": [
    "# Generate recommendations\n",
    "lookalike_dict = {}\n",
    "customer_ids = customer_data['CustomerID'].tolist()\n",
    "for i, customer in enumerate(customer_ids[:20]):\n",
    "    sim_scores = list(enumerate(similarity_matrix[i]))\n",
    "    sim_scores = sorted(sim_scores, key=lambda x: x[1], reverse=True)[1:4]  # Exclude self\n",
    "    lookalike_dict[customer] = [(customer_ids[j], score) for j, score in sim_scores]\n",
    "\n",
    "lookalike_df = pd.DataFrame.from_dict(lookalike_dict, orient='index')\n",
    "lookalike_df.to_csv(\"Lookalike.csv\")"
   ]
  },
  {
   "cell_type": "code",
   "execution_count": null,
   "id": "b0806a05",
   "metadata": {},
   "outputs": [],
   "source": []
  }
 ],
 "metadata": {
  "kernelspec": {
   "display_name": "Python 3 (ipykernel)",
   "language": "python",
   "name": "python3"
  },
  "language_info": {
   "codemirror_mode": {
    "name": "ipython",
    "version": 3
   },
   "file_extension": ".py",
   "mimetype": "text/x-python",
   "name": "python",
   "nbconvert_exporter": "python",
   "pygments_lexer": "ipython3",
   "version": "3.10.9"
  }
 },
 "nbformat": 4,
 "nbformat_minor": 5
}
